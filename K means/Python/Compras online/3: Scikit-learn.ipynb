{
 "cells": [
  {
   "cell_type": "markdown",
   "metadata": {},
   "source": [
    "# Implementación k-means con Scikit learn"
   ]
  },
  {
   "cell_type": "code",
   "execution_count": 1,
   "metadata": {},
   "outputs": [],
   "source": [
    "import numpy as np\n",
    "import pandas as pd\n",
    "import time\n",
    "import matplotlib.pyplot as plt\n",
    "\n",
    "from sklearn.cluster import KMeans\n",
    "from sklearn import metrics\n",
    "import sys"
   ]
  },
  {
   "cell_type": "code",
   "execution_count": 2,
   "metadata": {},
   "outputs": [
    {
     "data": {
      "text/plain": [
       "(12330, 18)"
      ]
     },
     "execution_count": 2,
     "metadata": {},
     "output_type": "execute_result"
    }
   ],
   "source": [
    "df= pd.read_csv('online_shoppers_intention.csv')\n",
    "df.shape"
   ]
  },
  {
   "cell_type": "code",
   "execution_count": 3,
   "metadata": {},
   "outputs": [
    {
     "data": {
      "text/html": [
       "<div>\n",
       "<style scoped>\n",
       "    .dataframe tbody tr th:only-of-type {\n",
       "        vertical-align: middle;\n",
       "    }\n",
       "\n",
       "    .dataframe tbody tr th {\n",
       "        vertical-align: top;\n",
       "    }\n",
       "\n",
       "    .dataframe thead th {\n",
       "        text-align: right;\n",
       "    }\n",
       "</style>\n",
       "<table border=\"1\" class=\"dataframe\">\n",
       "  <thead>\n",
       "    <tr style=\"text-align: right;\">\n",
       "      <th></th>\n",
       "      <th>Administrative</th>\n",
       "      <th>Administrative_Duration</th>\n",
       "      <th>Informational</th>\n",
       "      <th>Informational_Duration</th>\n",
       "      <th>ProductRelated</th>\n",
       "      <th>ProductRelated_Duration</th>\n",
       "      <th>BounceRates</th>\n",
       "      <th>ExitRates</th>\n",
       "      <th>PageValues</th>\n",
       "      <th>SpecialDay</th>\n",
       "      <th>Month</th>\n",
       "      <th>OperatingSystems</th>\n",
       "      <th>Browser</th>\n",
       "      <th>Region</th>\n",
       "      <th>TrafficType</th>\n",
       "      <th>VisitorType</th>\n",
       "      <th>Weekend</th>\n",
       "      <th>Revenue</th>\n",
       "    </tr>\n",
       "  </thead>\n",
       "  <tbody>\n",
       "    <tr>\n",
       "      <th>0</th>\n",
       "      <td>0</td>\n",
       "      <td>0.0</td>\n",
       "      <td>0</td>\n",
       "      <td>0.0</td>\n",
       "      <td>1</td>\n",
       "      <td>0.000000</td>\n",
       "      <td>0.20</td>\n",
       "      <td>0.20</td>\n",
       "      <td>0.0</td>\n",
       "      <td>0.0</td>\n",
       "      <td>Feb</td>\n",
       "      <td>1</td>\n",
       "      <td>1</td>\n",
       "      <td>1</td>\n",
       "      <td>1</td>\n",
       "      <td>Returning_Visitor</td>\n",
       "      <td>False</td>\n",
       "      <td>False</td>\n",
       "    </tr>\n",
       "    <tr>\n",
       "      <th>1</th>\n",
       "      <td>0</td>\n",
       "      <td>0.0</td>\n",
       "      <td>0</td>\n",
       "      <td>0.0</td>\n",
       "      <td>2</td>\n",
       "      <td>64.000000</td>\n",
       "      <td>0.00</td>\n",
       "      <td>0.10</td>\n",
       "      <td>0.0</td>\n",
       "      <td>0.0</td>\n",
       "      <td>Feb</td>\n",
       "      <td>2</td>\n",
       "      <td>2</td>\n",
       "      <td>1</td>\n",
       "      <td>2</td>\n",
       "      <td>Returning_Visitor</td>\n",
       "      <td>False</td>\n",
       "      <td>False</td>\n",
       "    </tr>\n",
       "    <tr>\n",
       "      <th>2</th>\n",
       "      <td>0</td>\n",
       "      <td>0.0</td>\n",
       "      <td>0</td>\n",
       "      <td>0.0</td>\n",
       "      <td>1</td>\n",
       "      <td>0.000000</td>\n",
       "      <td>0.20</td>\n",
       "      <td>0.20</td>\n",
       "      <td>0.0</td>\n",
       "      <td>0.0</td>\n",
       "      <td>Feb</td>\n",
       "      <td>4</td>\n",
       "      <td>1</td>\n",
       "      <td>9</td>\n",
       "      <td>3</td>\n",
       "      <td>Returning_Visitor</td>\n",
       "      <td>False</td>\n",
       "      <td>False</td>\n",
       "    </tr>\n",
       "    <tr>\n",
       "      <th>3</th>\n",
       "      <td>0</td>\n",
       "      <td>0.0</td>\n",
       "      <td>0</td>\n",
       "      <td>0.0</td>\n",
       "      <td>2</td>\n",
       "      <td>2.666667</td>\n",
       "      <td>0.05</td>\n",
       "      <td>0.14</td>\n",
       "      <td>0.0</td>\n",
       "      <td>0.0</td>\n",
       "      <td>Feb</td>\n",
       "      <td>3</td>\n",
       "      <td>2</td>\n",
       "      <td>2</td>\n",
       "      <td>4</td>\n",
       "      <td>Returning_Visitor</td>\n",
       "      <td>False</td>\n",
       "      <td>False</td>\n",
       "    </tr>\n",
       "    <tr>\n",
       "      <th>4</th>\n",
       "      <td>0</td>\n",
       "      <td>0.0</td>\n",
       "      <td>0</td>\n",
       "      <td>0.0</td>\n",
       "      <td>10</td>\n",
       "      <td>627.500000</td>\n",
       "      <td>0.02</td>\n",
       "      <td>0.05</td>\n",
       "      <td>0.0</td>\n",
       "      <td>0.0</td>\n",
       "      <td>Feb</td>\n",
       "      <td>3</td>\n",
       "      <td>3</td>\n",
       "      <td>1</td>\n",
       "      <td>4</td>\n",
       "      <td>Returning_Visitor</td>\n",
       "      <td>True</td>\n",
       "      <td>False</td>\n",
       "    </tr>\n",
       "  </tbody>\n",
       "</table>\n",
       "</div>"
      ],
      "text/plain": [
       "   Administrative  Administrative_Duration  Informational  \\\n",
       "0               0                      0.0              0   \n",
       "1               0                      0.0              0   \n",
       "2               0                      0.0              0   \n",
       "3               0                      0.0              0   \n",
       "4               0                      0.0              0   \n",
       "\n",
       "   Informational_Duration  ProductRelated  ProductRelated_Duration  \\\n",
       "0                     0.0               1                 0.000000   \n",
       "1                     0.0               2                64.000000   \n",
       "2                     0.0               1                 0.000000   \n",
       "3                     0.0               2                 2.666667   \n",
       "4                     0.0              10               627.500000   \n",
       "\n",
       "   BounceRates  ExitRates  PageValues  SpecialDay Month  OperatingSystems  \\\n",
       "0         0.20       0.20         0.0         0.0   Feb                 1   \n",
       "1         0.00       0.10         0.0         0.0   Feb                 2   \n",
       "2         0.20       0.20         0.0         0.0   Feb                 4   \n",
       "3         0.05       0.14         0.0         0.0   Feb                 3   \n",
       "4         0.02       0.05         0.0         0.0   Feb                 3   \n",
       "\n",
       "   Browser  Region  TrafficType        VisitorType  Weekend  Revenue  \n",
       "0        1       1            1  Returning_Visitor    False    False  \n",
       "1        2       1            2  Returning_Visitor    False    False  \n",
       "2        1       9            3  Returning_Visitor    False    False  \n",
       "3        2       2            4  Returning_Visitor    False    False  \n",
       "4        3       1            4  Returning_Visitor     True    False  "
      ]
     },
     "execution_count": 3,
     "metadata": {},
     "output_type": "execute_result"
    }
   ],
   "source": [
    "df.head()"
   ]
  },
  {
   "cell_type": "code",
   "execution_count": 4,
   "metadata": {},
   "outputs": [],
   "source": [
    "df=pd.get_dummies(df)"
   ]
  },
  {
   "cell_type": "markdown",
   "metadata": {},
   "source": [
    "## K Means Cluster "
   ]
  },
  {
   "cell_type": "code",
   "execution_count": 5,
   "metadata": {},
   "outputs": [],
   "source": [
    "t1=time.time()"
   ]
  },
  {
   "cell_type": "code",
   "execution_count": 6,
   "metadata": {},
   "outputs": [],
   "source": [
    "# K=2\n",
    "kmeans=KMeans(n_clusters=2)"
   ]
  },
  {
   "cell_type": "code",
   "execution_count": 7,
   "metadata": {},
   "outputs": [],
   "source": [
    "x=df.values\n",
    "y_kmeans= kmeans.fit_predict(x)"
   ]
  },
  {
   "cell_type": "code",
   "execution_count": 8,
   "metadata": {},
   "outputs": [
    {
     "name": "stdout",
     "output_type": "stream",
     "text": [
      "K-means utilizando scipy.kmeans() para k=2\n",
      "Tiempo de ejecucion: 0.19469070434570312 segundos\n"
     ]
    }
   ],
   "source": [
    "t2=time.time()\n",
    "tiempo = float(t2-t1)\n",
    "\n",
    "print('K-means utilizando scipy.kmeans() para k=2')\n",
    "print(\"Tiempo de ejecucion: {} segundos\".format(tiempo))"
   ]
  },
  {
   "cell_type": "code",
   "execution_count": 9,
   "metadata": {},
   "outputs": [
    {
     "data": {
      "text/plain": [
       "array([0, 0, 0, ..., 0, 0, 0], dtype=int32)"
      ]
     },
     "execution_count": 9,
     "metadata": {},
     "output_type": "execute_result"
    }
   ],
   "source": [
    "y_kmeans"
   ]
  },
  {
   "cell_type": "code",
   "execution_count": 10,
   "metadata": {},
   "outputs": [
    {
     "data": {
      "text/plain": [
       "array([[2.04422216e+00, 7.04291253e+01, 4.01070457e-01, 2.53169800e+01,\n",
       "        2.32386593e+01, 7.93739777e+02, 2.34739352e-02, 4.48985506e-02,\n",
       "        5.77002491e+00, 6.27007107e-02, 2.12222515e+00, 2.35632184e+00,\n",
       "        3.16758796e+00, 4.10862508e+00, 2.32517329e-01, 1.42581381e-01,\n",
       "        3.50092130e-02, 1.42230412e-01, 1.58813723e-02, 3.49214706e-02,\n",
       "        2.33394753e-02, 1.62323418e-01, 2.81477582e-01, 2.23830833e-01,\n",
       "        4.48363604e-02, 3.61498640e-02, 1.47143985e-01, 7.19487584e-03,\n",
       "        8.45661139e-01],\n",
       "       [5.62486602e+00, 2.07730683e+02, 1.75562701e+00, 1.46309803e+02,\n",
       "        1.35474812e+02, 6.09321399e+03, 6.52441776e-03, 2.07704349e-02,\n",
       "        7.34574016e+00, 4.58735263e-02, 2.14576635e+00, 2.36655949e+00,\n",
       "        2.90032154e+00, 3.59271168e+00, 2.33654877e-01, 3.03322615e-01,\n",
       "        3.64415863e-02, 1.13612004e-01, 3.21543408e-03, 3.64415863e-02,\n",
       "        2.35798499e-02, 6.10932476e-02, 1.67202572e-01, 4.79099678e-01,\n",
       "        4.07288317e-02, 3.85852090e-02, 1.82207931e-02, 3.21543408e-03,\n",
       "        9.78563773e-01]])"
      ]
     },
     "execution_count": 10,
     "metadata": {},
     "output_type": "execute_result"
    }
   ],
   "source": [
    "kmeans.cluster_centers_"
   ]
  },
  {
   "cell_type": "code",
   "execution_count": 11,
   "metadata": {},
   "outputs": [
    {
     "name": "stdout",
     "output_type": "stream",
     "text": [
      "49416 bytes\n"
     ]
    }
   ],
   "source": [
    "# Medimos el tamaño en bytes del objeto\n",
    "print(sys.getsizeof(y_kmeans), 'bytes')"
   ]
  },
  {
   "cell_type": "code",
   "execution_count": 12,
   "metadata": {},
   "outputs": [
    {
     "data": {
      "text/plain": [
       "0.7814616505882825"
      ]
     },
     "execution_count": 12,
     "metadata": {},
     "output_type": "execute_result"
    }
   ],
   "source": [
    "metrics.silhouette_score(x, y_kmeans, metric='euclidean')"
   ]
  },
  {
   "cell_type": "code",
   "execution_count": 13,
   "metadata": {},
   "outputs": [],
   "source": [
    "t1=time.time()"
   ]
  },
  {
   "cell_type": "code",
   "execution_count": 14,
   "metadata": {},
   "outputs": [],
   "source": [
    "#K=3\n",
    "kmeans=KMeans(n_clusters=3)\n",
    "x=df.values\n",
    "y_kmeans= kmeans.fit_predict(x)"
   ]
  },
  {
   "cell_type": "code",
   "execution_count": 15,
   "metadata": {},
   "outputs": [
    {
     "name": "stdout",
     "output_type": "stream",
     "text": [
      "K-means utilizando scipy.kmeans() para k=3\n",
      "Tiempo de ejecucion: 0.24967002868652344 segundos\n"
     ]
    }
   ],
   "source": [
    "t2=time.time()\n",
    "tiempo = float(t2-t1)\n",
    "\n",
    "print('K-means utilizando scipy.kmeans() para k=3')\n",
    "print(\"Tiempo de ejecucion: {} segundos\".format(tiempo))"
   ]
  },
  {
   "cell_type": "code",
   "execution_count": 16,
   "metadata": {},
   "outputs": [
    {
     "data": {
      "text/plain": [
       "array([0, 0, 0, ..., 0, 0, 0], dtype=int32)"
      ]
     },
     "execution_count": 16,
     "metadata": {},
     "output_type": "execute_result"
    }
   ],
   "source": [
    "y_kmeans"
   ]
  },
  {
   "cell_type": "code",
   "execution_count": 17,
   "metadata": {},
   "outputs": [
    {
     "data": {
      "text/plain": [
       "0.694993946387689"
      ]
     },
     "execution_count": 17,
     "metadata": {},
     "output_type": "execute_result"
    }
   ],
   "source": [
    "metrics.silhouette_score(x, y_kmeans, metric='euclidean')"
   ]
  },
  {
   "cell_type": "code",
   "execution_count": 18,
   "metadata": {},
   "outputs": [
    {
     "data": {
      "text/plain": [
       "array([[ 1.81983048e+00,  6.20411902e+01,  3.27321112e-01,\n",
       "         1.99689101e+01,  1.86068401e+01,  5.76336049e+02,\n",
       "         2.54575863e-02,  4.77207609e-02,  5.49487216e+00,\n",
       "         6.41435048e-02,  2.12073724e+00,  2.36743544e+00,\n",
       "         3.16903213e+00,  4.14902425e+00,  2.34870885e-01,\n",
       "         1.32170313e-01,  3.53834023e-02,  1.44096196e-01,\n",
       "         1.72481766e-02,  3.43977922e-02,  2.41474473e-02,\n",
       "         1.69229253e-01,  2.85137000e-01,  2.08949340e-01,\n",
       "         4.42538932e-02,  3.71575005e-02,  1.57500493e-01,\n",
       "         7.88488074e-03,  8.34614626e-01],\n",
       "       [ 7.43961353e+00,  2.95364891e+02,  2.74879227e+00,\n",
       "         2.66723094e+02,  2.36106280e+02,  1.08861744e+04,\n",
       "         5.93975560e-03,  1.96883098e-02,  4.52137028e+00,\n",
       "         3.09178744e-02,  2.14975845e+00,  2.30917874e+00,\n",
       "         2.58454106e+00,  3.61835749e+00,  2.51207729e-01,\n",
       "         3.38164251e-01,  3.86473430e-02,  8.69565217e-02,\n",
       "        -3.29597460e-17,  5.31400966e-02,  4.34782609e-02,\n",
       "         4.34782609e-02,  1.06280193e-01,  5.60386473e-01,\n",
       "         2.41545894e-02,  4.34782609e-02,  4.83091787e-03,\n",
       "         4.83091787e-03,  9.90338164e-01],\n",
       "       [ 4.32068791e+00,  1.54720799e+02,  1.17298938e+00,\n",
       "         8.45869622e+01,  7.76884168e+01,  3.35370624e+03,\n",
       "         7.13076421e-03,  2.16678180e-02,  8.05647591e+00,\n",
       "         5.06828528e-02,  2.13808801e+00,  2.30905412e+00,\n",
       "         3.09509358e+00,  3.70915529e+00,  2.19018715e-01,\n",
       "         2.51390996e-01,  3.33839150e-02,  1.24936773e-01,\n",
       "         4.55235205e-03,  3.64188164e-02,  1.71977744e-02,\n",
       "         9.15528579e-02,  2.27111786e-01,  3.85432473e-01,\n",
       "         4.80526050e-02,  3.13606474e-02,  4.80526050e-02,\n",
       "         2.02326758e-03,  9.49924127e-01]])"
      ]
     },
     "execution_count": 18,
     "metadata": {},
     "output_type": "execute_result"
    }
   ],
   "source": [
    "kmeans.cluster_centers_"
   ]
  },
  {
   "cell_type": "code",
   "execution_count": 19,
   "metadata": {},
   "outputs": [
    {
     "data": {
      "text/plain": [
       "<matplotlib.legend.Legend at 0x10bfcbe80>"
      ]
     },
     "execution_count": 19,
     "metadata": {},
     "output_type": "execute_result"
    },
    {
     "data": {
      "image/png": "[encoded data removed]",
      "text/plain": [
       "<Figure size 432x288 with 1 Axes>"
      ]
     },
     "metadata": {
      "needs_background": "light"
     },
     "output_type": "display_data"
    }
   ],
   "source": [
    "#Visualizamos los cluster\n",
    "plt.scatter(x[y_kmeans == 0, 0], x[y_kmeans == 0, 1], s = 100, c = 'red', )\n",
    "plt.scatter(x[y_kmeans == 1, 0], x[y_kmeans == 1, 1], s = 100, c = 'blue',)\n",
    "plt.scatter(x[y_kmeans == 2, 0], x[y_kmeans == 2, 1], s = 100, c = 'green')\n",
    "\n",
    "\n",
    "\n",
    "#Graficamos los centroides en amarillo\n",
    "plt.scatter(kmeans.cluster_centers_[:, 0], kmeans.cluster_centers_[:,1], s = 100, c = 'yellow', label = 'Centroides')\n",
    "\n",
    "plt.legend()"
   ]
  },
  {
   "cell_type": "code",
   "execution_count": 20,
   "metadata": {},
   "outputs": [],
   "source": [
    "t1=time.time()"
   ]
  },
  {
   "cell_type": "code",
   "execution_count": 21,
   "metadata": {},
   "outputs": [],
   "source": [
    "#K=4\n",
    "kmeans=KMeans(n_clusters=4)\n",
    "x=df.values\n",
    "y_kmeans= kmeans.fit_predict(x)"
   ]
  },
  {
   "cell_type": "code",
   "execution_count": 22,
   "metadata": {},
   "outputs": [
    {
     "name": "stdout",
     "output_type": "stream",
     "text": [
      "K-means utilizando scipy.kmeans() para k=4\n",
      "Tiempo de ejecucion: 0.27559471130371094 segundos\n"
     ]
    }
   ],
   "source": [
    "t2=time.time()\n",
    "tiempo = float(t2-t1)\n",
    "\n",
    "print('K-means utilizando scipy.kmeans() para k=4')\n",
    "print(\"Tiempo de ejecucion: {} segundos\".format(tiempo))"
   ]
  },
  {
   "cell_type": "code",
   "execution_count": 23,
   "metadata": {},
   "outputs": [
    {
     "data": {
      "text/plain": [
       "array([1, 1, 1, ..., 1, 1, 1], dtype=int32)"
      ]
     },
     "execution_count": 23,
     "metadata": {},
     "output_type": "execute_result"
    }
   ],
   "source": [
    "y_kmeans"
   ]
  },
  {
   "cell_type": "code",
   "execution_count": 24,
   "metadata": {},
   "outputs": [
    {
     "data": {
      "text/plain": [
       "array([[ 4.08448815e+00,  1.49341425e+02,  1.06571301e+00,\n",
       "         7.67472946e+01,  6.85637014e+01,  2.89576643e+03,\n",
       "         7.52934943e-03,  2.22983632e-02,  8.20829844e+00,\n",
       "         5.36432722e-02,  2.12919088e+00,  2.30576665e+00,\n",
       "         3.15511846e+00,  3.81805990e+00,  2.23066607e-01,\n",
       "         2.36477425e-01,  3.75502906e-02,  1.33214126e-01,\n",
       "         4.02324542e-03,  3.48681270e-02,  1.87751453e-02,\n",
       "         9.83459991e-02,  2.40500671e-01,  3.58962897e-01,\n",
       "         4.24675905e-02,  3.12919088e-02,  5.31962450e-02,\n",
       "         1.78810907e-03,  9.45015646e-01],\n",
       "       [ 1.74248487e+00,  5.86422879e+01,  3.05529907e-01,\n",
       "         1.82580847e+01,  1.74154099e+01,  5.25007329e+02,\n",
       "         2.61261548e-02,  4.86670203e-02,  5.38503204e+00,\n",
       "         6.42043706e-02,  2.12239663e+00,  2.37078075e+00,\n",
       "         3.16169078e+00,  4.14414692e+00,  2.34841490e-01,\n",
       "         1.29578332e-01,  3.45747409e-02,  1.43736534e-01,\n",
       "         1.78516467e-02,  3.47799323e-02,  2.36995999e-02,\n",
       "         1.71334770e-01,  2.85728942e-01,  2.06114702e-01,\n",
       "         4.50394993e-02,  3.71396327e-02,  1.61280394e-01,\n",
       "         8.20765364e-03,  8.30511952e-01],\n",
       "       [ 1.47000000e+01,  1.55819631e+03,  7.40000000e+00,\n",
       "         1.03403250e+03,  5.12400000e+02,  3.02779524e+04,\n",
       "         4.50468460e-03,  1.83916415e-02,  3.54331210e+00,\n",
       "        -6.93889390e-18,  1.90000000e+00,  2.10000000e+00,\n",
       "         1.50000000e+00,  6.00000000e+00,  1.00000000e-01,\n",
       "         2.00000000e-01,  1.00000000e-01,  2.00000000e-01,\n",
       "         3.46944695e-18,  1.00000000e-01,  3.46944695e-18,\n",
       "        -2.77555756e-17,  1.00000000e-01,  3.00000000e-01,\n",
       "        -6.93889390e-18,  2.00000000e-01,  2.77555756e-17,\n",
       "         8.67361738e-19,  1.00000000e+00],\n",
       "       [ 6.77976190e+00,  2.23953448e+02,  2.30059524e+00,\n",
       "         1.93628249e+02,  1.87500000e+02,  8.43263520e+03,\n",
       "         6.19014505e-03,  1.98356986e-02,  5.14656377e+00,\n",
       "         3.45238095e-02,  2.14285714e+00,  2.30952381e+00,\n",
       "         2.72916667e+00,  3.52380952e+00,  2.35119048e-01,\n",
       "         3.39285714e-01,  3.27380952e-02,  7.73809524e-02,\n",
       "         2.97619048e-03,  4.16666667e-02,  4.46428571e-02,\n",
       "         5.05952381e-02,  1.19047619e-01,  5.44642857e-01,\n",
       "         4.46428571e-02,  4.16666667e-02,  8.92857143e-03,\n",
       "         2.97619048e-03,  9.88095238e-01]])"
      ]
     },
     "execution_count": 24,
     "metadata": {},
     "output_type": "execute_result"
    }
   ],
   "source": [
    "kmeans.cluster_centers_"
   ]
  },
  {
   "cell_type": "code",
   "execution_count": 25,
   "metadata": {},
   "outputs": [
    {
     "data": {
      "text/plain": [
       "0.6757443625469116"
      ]
     },
     "execution_count": 25,
     "metadata": {},
     "output_type": "execute_result"
    }
   ],
   "source": [
    "metrics.silhouette_score(x, y_kmeans, metric='euclidean')"
   ]
  }
 ],
 "metadata": {
  "kernelspec": {
   "display_name": "Python 3",
   "language": "python",
   "name": "python3"
  },
  "language_info": {
   "codemirror_mode": {
    "name": "ipython",
    "version": 3
   },
   "file_extension": ".py",
   "mimetype": "text/x-python",
   "name": "python",
   "nbconvert_exporter": "python",
   "pygments_lexer": "ipython3",
   "version": "3.7.3"
  }
 },
 "nbformat": 4,
 "nbformat_minor": 2
}
